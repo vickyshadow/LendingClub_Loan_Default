{
 "cells": [
  {
   "cell_type": "code",
   "execution_count": 1,
   "metadata": {},
   "outputs": [],
   "source": [
    "import pandas as pd\n",
    "import lux\n",
    "import sweetviz as sv\n",
    "import numpy as np"
   ]
  },
  {
   "cell_type": "code",
   "execution_count": 2,
   "metadata": {},
   "outputs": [
    {
     "data": {
      "application/vnd.jupyter.widget-view+json": {
       "model_id": "a901230d1a134d438727f335a55cc137",
       "version_major": 2,
       "version_minor": 0
      },
      "text/plain": [
       "Button(description='Toggle Pandas/Lux', layout=Layout(top='5px', width='140px'), style=ButtonStyle())"
      ]
     },
     "metadata": {},
     "output_type": "display_data"
    },
    {
     "data": {
      "application/vnd.jupyter.widget-view+json": {
       "model_id": "a57ce0f0c55c43d1a498ffac69395752",
       "version_major": 2,
       "version_minor": 0
      },
      "text/plain": [
       "Output()"
      ]
     },
     "metadata": {},
     "output_type": "display_data"
    }
   ],
   "source": [
    "test = pd.read_csv(r'lc_testset.csv')\n",
    "pd.set_option('display.max_columns', None)\n",
    "test['issue_d'] = pd.to_datetime(test['issue_d'], format=\"%b-%y\")\n",
    "test['earliest_cr_line'] = pd.to_datetime(test['earliest_cr_line'], format='%b-%y')\n",
    "test"
   ]
  },
  {
   "cell_type": "code",
   "execution_count": 3,
   "metadata": {},
   "outputs": [
    {
     "name": "stdout",
     "output_type": "stream",
     "text": [
      "<class 'lux.core.frame.LuxDataFrame'>\n",
      "RangeIndex: 78237 entries, 0 to 78236\n",
      "Data columns (total 27 columns):\n",
      " #   Column                Non-Null Count  Dtype         \n",
      "---  ------                --------------  -----         \n",
      " 0   id                    78237 non-null  int64         \n",
      " 1   loan_amnt             78237 non-null  int64         \n",
      " 2   term                  78237 non-null  object        \n",
      " 3   int_rate              78237 non-null  float64       \n",
      " 4   installment           78237 non-null  float64       \n",
      " 5   grade                 78237 non-null  object        \n",
      " 6   sub_grade             78237 non-null  object        \n",
      " 7   emp_title             73679 non-null  object        \n",
      " 8   emp_length            74618 non-null  object        \n",
      " 9   home_ownership        78237 non-null  object        \n",
      " 10  annual_inc            78237 non-null  float64       \n",
      " 11  verification_status   78237 non-null  object        \n",
      " 12  issue_d               78237 non-null  datetime64[ns]\n",
      " 13  purpose               78237 non-null  object        \n",
      " 14  title                 77886 non-null  object        \n",
      " 15  dti                   78237 non-null  float64       \n",
      " 16  earliest_cr_line      78237 non-null  datetime64[ns]\n",
      " 17  open_acc              78237 non-null  int64         \n",
      " 18  pub_rec               78237 non-null  int64         \n",
      " 19  revol_bal             78237 non-null  int64         \n",
      " 20  revol_util            78237 non-null  float64       \n",
      " 21  total_acc             78237 non-null  int64         \n",
      " 22  initial_list_status   78237 non-null  object        \n",
      " 23  application_type      78237 non-null  object        \n",
      " 24  mort_acc              70839 non-null  float64       \n",
      " 25  pub_rec_bankruptcies  78237 non-null  int64         \n",
      " 26  address               78237 non-null  object        \n",
      "dtypes: datetime64[ns](2), float64(6), int64(7), object(12)\n",
      "memory usage: 16.1+ MB\n"
     ]
    }
   ],
   "source": [
    "test.info()"
   ]
  },
  {
   "cell_type": "code",
   "execution_count": 4,
   "metadata": {},
   "outputs": [
    {
     "name": "stdout",
     "output_type": "stream",
     "text": [
      "<class 'lux.core.frame.LuxDataFrame'>\n",
      "RangeIndex: 78237 entries, 0 to 78236\n",
      "Data columns (total 27 columns):\n",
      " #   Column                Non-Null Count  Dtype         \n",
      "---  ------                --------------  -----         \n",
      " 0   id                    78237 non-null  int64         \n",
      " 1   loan_amnt             78237 non-null  int64         \n",
      " 2   term                  78237 non-null  object        \n",
      " 3   int_rate              78237 non-null  float64       \n",
      " 4   installment           78237 non-null  float64       \n",
      " 5   grade                 78237 non-null  object        \n",
      " 6   sub_grade             78237 non-null  object        \n",
      " 7   emp_title             73679 non-null  object        \n",
      " 8   emp_length            74618 non-null  object        \n",
      " 9   home_ownership        78237 non-null  object        \n",
      " 10  annual_inc            78237 non-null  float64       \n",
      " 11  verification_status   78237 non-null  object        \n",
      " 12  issue_d               78237 non-null  datetime64[ns]\n",
      " 13  purpose               78237 non-null  object        \n",
      " 14  title                 77886 non-null  object        \n",
      " 15  dti                   78237 non-null  float64       \n",
      " 16  earliest_cr_line      78237 non-null  datetime64[ns]\n",
      " 17  open_acc              78237 non-null  int64         \n",
      " 18  pub_rec               78237 non-null  int64         \n",
      " 19  revol_bal             78237 non-null  int64         \n",
      " 20  revol_util            78237 non-null  float64       \n",
      " 21  total_acc             78237 non-null  int64         \n",
      " 22  initial_list_status   78237 non-null  object        \n",
      " 23  application_type      78237 non-null  object        \n",
      " 24  mort_acc              70839 non-null  float64       \n",
      " 25  pub_rec_bankruptcies  78237 non-null  int64         \n",
      " 26  address               78237 non-null  object        \n",
      "dtypes: datetime64[ns](2), float64(6), int64(7), object(12)\n",
      "memory usage: 16.1+ MB\n"
     ]
    }
   ],
   "source": [
    "test.info()"
   ]
  },
  {
   "cell_type": "code",
   "execution_count": 5,
   "metadata": {},
   "outputs": [
    {
     "data": {
      "application/vnd.jupyter.widget-view+json": {
       "model_id": "82e3805ba3ef4beb862e81c932157102",
       "version_major": 2,
       "version_minor": 0
      },
      "text/plain": [
       "Button(description='Toggle Pandas/Lux', layout=Layout(top='5px', width='140px'), style=ButtonStyle())"
      ]
     },
     "metadata": {},
     "output_type": "display_data"
    },
    {
     "data": {
      "application/vnd.jupyter.widget-view+json": {
       "model_id": "dd1b3488c3fa45aa80e7068d7c8bd70c",
       "version_major": 2,
       "version_minor": 0
      },
      "text/plain": [
       "Output()"
      ]
     },
     "metadata": {},
     "output_type": "display_data"
    }
   ],
   "source": [
    "test"
   ]
  },
  {
   "cell_type": "code",
   "execution_count": 6,
   "metadata": {},
   "outputs": [
    {
     "data": {
      "application/vnd.jupyter.widget-view+json": {
       "model_id": "8cd50154867640dcb7b62d5b448adf85",
       "version_major": 2,
       "version_minor": 0
      },
      "text/plain": [
       "Button(description='Toggle Pandas/Lux', layout=Layout(top='5px', width='140px'), style=ButtonStyle())"
      ]
     },
     "metadata": {},
     "output_type": "display_data"
    },
    {
     "data": {
      "application/vnd.jupyter.widget-view+json": {
       "model_id": "269cbf37ca97436d9150516b82f8e1e3",
       "version_major": 2,
       "version_minor": 0
      },
      "text/plain": [
       "Output()"
      ]
     },
     "metadata": {},
     "output_type": "display_data"
    }
   ],
   "source": [
    "per_null = test.isna().sum() / test.shape[0] * 100\n",
    "per_null"
   ]
  },
  {
   "cell_type": "code",
   "execution_count": 7,
   "metadata": {},
   "outputs": [
    {
     "data": {
      "application/vnd.jupyter.widget-view+json": {
       "model_id": "a5f0317dd17a4e59af227aed332b3f20",
       "version_major": 2,
       "version_minor": 0
      },
      "text/plain": [
       "Button(description='Toggle Pandas/Lux', layout=Layout(top='5px', width='140px'), style=ButtonStyle())"
      ]
     },
     "metadata": {},
     "output_type": "display_data"
    },
    {
     "data": {
      "application/vnd.jupyter.widget-view+json": {
       "model_id": "23501cfc9d6b4a8db4f6ebc8aa142485",
       "version_major": 2,
       "version_minor": 0
      },
      "text/plain": [
       "Output()"
      ]
     },
     "metadata": {},
     "output_type": "display_data"
    }
   ],
   "source": [
    "per_null[per_null>0]"
   ]
  },
  {
   "cell_type": "code",
   "execution_count": 8,
   "metadata": {},
   "outputs": [
    {
     "data": {
      "text/plain": [
       "Index(['id', 'loan_amnt', 'int_rate', 'installment', 'annual_inc', 'dti',\n",
       "       'open_acc', 'pub_rec', 'revol_bal', 'revol_util', 'total_acc',\n",
       "       'mort_acc', 'pub_rec_bankruptcies'],\n",
       "      dtype='object')"
      ]
     },
     "execution_count": 8,
     "metadata": {},
     "output_type": "execute_result"
    }
   ],
   "source": [
    "num_var = test.select_dtypes(include=np.number).keys()\n",
    "num_var"
   ]
  },
  {
   "cell_type": "code",
   "execution_count": 9,
   "metadata": {},
   "outputs": [],
   "source": [
    "for i in num_var:\n",
    "    test[i].fillna(test[i].mean(), inplace=True)"
   ]
  },
  {
   "cell_type": "code",
   "execution_count": 10,
   "metadata": {},
   "outputs": [
    {
     "data": {
      "text/plain": [
       "Index(['term', 'grade', 'sub_grade', 'emp_title', 'emp_length',\n",
       "       'home_ownership', 'verification_status', 'purpose', 'title',\n",
       "       'initial_list_status', 'application_type', 'address'],\n",
       "      dtype='object')"
      ]
     },
     "execution_count": 10,
     "metadata": {},
     "output_type": "execute_result"
    }
   ],
   "source": [
    "cat_var = test.select_dtypes(include='object').keys()\n",
    "cat_var"
   ]
  },
  {
   "cell_type": "code",
   "execution_count": 11,
   "metadata": {},
   "outputs": [],
   "source": [
    "for i in cat_var:\n",
    "    test[i].fillna(test[i].mode().iloc[0], inplace=True)"
   ]
  },
  {
   "cell_type": "code",
   "execution_count": 13,
   "metadata": {},
   "outputs": [
    {
     "data": {
      "text/plain": [
       "0"
      ]
     },
     "execution_count": 13,
     "metadata": {},
     "output_type": "execute_result"
    }
   ],
   "source": [
    "test.isna().sum().sum()"
   ]
  },
  {
   "cell_type": "code",
   "execution_count": 14,
   "metadata": {},
   "outputs": [
    {
     "data": {
      "application/vnd.jupyter.widget-view+json": {
       "model_id": "1e0d739211584fac9f2c856ccb762e4b",
       "version_major": 2,
       "version_minor": 0
      },
      "text/plain": [
       "Button(description='Toggle Pandas/Lux', layout=Layout(top='5px', width='140px'), style=ButtonStyle())"
      ]
     },
     "metadata": {},
     "output_type": "display_data"
    },
    {
     "data": {
      "application/vnd.jupyter.widget-view+json": {
       "model_id": "b674c6e3169b4579b49cefaa620e8b7d",
       "version_major": 2,
       "version_minor": 0
      },
      "text/plain": [
       "Output()"
      ]
     },
     "metadata": {},
     "output_type": "display_data"
    }
   ],
   "source": [
    "test"
   ]
  },
  {
   "cell_type": "code",
   "execution_count": 15,
   "metadata": {},
   "outputs": [],
   "source": [
    "test.to_csv('cleantestdata.csv', index=False, header=True)"
   ]
  },
  {
   "cell_type": "code",
   "execution_count": null,
   "metadata": {},
   "outputs": [],
   "source": []
  }
 ],
 "metadata": {
  "kernelspec": {
   "display_name": "Python 3.7.13 ('pycaret')",
   "language": "python",
   "name": "python3"
  },
  "language_info": {
   "codemirror_mode": {
    "name": "ipython",
    "version": 3
   },
   "file_extension": ".py",
   "mimetype": "text/x-python",
   "name": "python",
   "nbconvert_exporter": "python",
   "pygments_lexer": "ipython3",
   "version": "3.7.13"
  },
  "orig_nbformat": 4,
  "vscode": {
   "interpreter": {
    "hash": "be011ed16ef95f3f28609933babf5d9c756ee36cc0a785b06508a8f6fa25c615"
   }
  }
 },
 "nbformat": 4,
 "nbformat_minor": 2
}
